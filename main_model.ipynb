{
 "cells": [
  {
   "cell_type": "markdown",
   "metadata": {},
   "source": [
    "# Bengali Compound Character Recognition using CNN\n",
    "We use a Deep convolutional Neural Network to build a classifier which will recognize handwritten Bengali Handwritten compound alphabets. The Dataset is a set of compound character images folderized into multiple classes according to their names.\n",
    "\n",
    "## A brief about the necessity of using CNN\n",
    "A Convolutional Neural Network finds patterns between data. If the input is an image, the convolution operation helps the network find features from the image array generated from it. It is very efficient for building recognition based Systems. Unlike RNN, it will find for patterns which can be generated from lines, curves, shapes of different parts of an image and then use this knowledge to further combine and use it to recognize an input test image. There is no need for an output of one step to be fed to the immediate predecessor of that node, that is why a CNN is being used in order to solve this particular problem."
   ]
  },
  {
   "cell_type": "markdown",
   "metadata": {},
   "source": [
    "## Tools used\n",
    "\n",
    "To build the proposed model, **Tensorflow**, more specifically **Keras** *(which uses Tensorflow backend)* is used. It is a very popular and stable Deep Learning library which has been used for a long time in order to build similar models. Some additional libraries of Python such as Numpy, Pandas, Matplotlib are used in order to load, visualize and perform operations on the dataset."
   ]
  },
  {
   "cell_type": "markdown",
   "metadata": {},
   "source": [
    "## Necessary steps\n",
    "\n",
    "1. Importing the Libraries\n",
    "2. Creating and Compiling the CNN classifier\n",
    "3. Training the classifier with training and validation data\n",
    "4. Visualizing different types of accuracy & loss\n",
    "5. Saving and reloading the classifer\n",
    "6. Testing the classifier with some test images\n",
    "7. Printing the Accuracy of the classifer"
   ]
  },
  {
   "cell_type": "markdown",
   "metadata": {},
   "source": [
    "## Step 1 - Importing the necessary libraries"
   ]
  },
  {
   "cell_type": "code",
   "execution_count": 9,
   "metadata": {},
   "outputs": [],
   "source": [
    "import numpy as np\n",
    "import pandas as pd\n",
    "import matplotlib.pyplot as plt\n",
    "import matplotlib.image as mpimg\n",
    "import seaborn as sns\n",
    "\n",
    "%matplotlib inline\n",
    "\n",
    "from sklearn.model_selection import train_test_split\n",
    "from sklearn.metrics import confusion_matrix\n",
    "\n",
    "from keras.utils.np_utils import to_categorical # convert to one-hot-encoding\n",
    "from keras.models import Sequential\n",
    "from keras.layers import Dense, Dropout, Flatten, Conv2D, MaxPool2D, BatchNormalization\n",
    "from keras.optimizers import Adam\n",
    "from keras.preprocessing.image import ImageDataGenerator\n",
    "from keras.callbacks import LearningRateScheduler\n",
    "from keras import models"
   ]
  },
  {
   "cell_type": "markdown",
   "metadata": {},
   "source": [
    "## Step 2 - Creating and compiling the classifier\n",
    "\n",
    "The architecture is printed as the output of the codeblock below."
   ]
  },
  {
   "cell_type": "code",
   "execution_count": 14,
   "metadata": {},
   "outputs": [
    {
     "name": "stdout",
     "output_type": "stream",
     "text": [
      "Model: \"sequential_5\"\n",
      "_________________________________________________________________\n",
      "Layer (type)                 Output Shape              Param #   \n",
      "=================================================================\n",
      "conv2d_17 (Conv2D)           (None, 126, 126, 16)      448       \n",
      "_________________________________________________________________\n",
      "batch_normalization_17 (Batc (None, 126, 126, 16)      64        \n",
      "_________________________________________________________________\n",
      "conv2d_18 (Conv2D)           (None, 124, 124, 16)      2320      \n",
      "_________________________________________________________________\n",
      "batch_normalization_18 (Batc (None, 124, 124, 16)      64        \n",
      "_________________________________________________________________\n",
      "max_pooling2d_9 (MaxPooling2 (None, 62, 62, 16)        0         \n",
      "_________________________________________________________________\n",
      "dropout_17 (Dropout)         (None, 62, 62, 16)        0         \n",
      "_________________________________________________________________\n",
      "conv2d_19 (Conv2D)           (None, 60, 60, 32)        4640      \n",
      "_________________________________________________________________\n",
      "batch_normalization_19 (Batc (None, 60, 60, 32)        128       \n",
      "_________________________________________________________________\n",
      "conv2d_20 (Conv2D)           (None, 58, 58, 32)        9248      \n",
      "_________________________________________________________________\n",
      "batch_normalization_20 (Batc (None, 58, 58, 32)        128       \n",
      "_________________________________________________________________\n",
      "max_pooling2d_10 (MaxPooling (None, 29, 29, 32)        0         \n",
      "_________________________________________________________________\n",
      "dropout_18 (Dropout)         (None, 29, 29, 32)        0         \n",
      "_________________________________________________________________\n",
      "flatten_5 (Flatten)          (None, 26912)             0         \n",
      "_________________________________________________________________\n",
      "dense_13 (Dense)             (None, 512)               13779456  \n",
      "_________________________________________________________________\n",
      "dropout_19 (Dropout)         (None, 512)               0         \n",
      "_________________________________________________________________\n",
      "dense_14 (Dense)             (None, 1024)              525312    \n",
      "_________________________________________________________________\n",
      "dropout_20 (Dropout)         (None, 1024)              0         \n",
      "_________________________________________________________________\n",
      "dense_15 (Dense)             (None, 34)                34850     \n",
      "=================================================================\n",
      "Total params: 14,356,658\n",
      "Trainable params: 14,356,466\n",
      "Non-trainable params: 192\n",
      "_________________________________________________________________\n"
     ]
    }
   ],
   "source": [
    "#initializing the CNN\n",
    "\n",
    "classifier = Sequential()\n",
    "\n",
    "\n",
    "# Step 1 - Convolution\n",
    "\n",
    "# param - 64 filters/feature detectors, 3 rows, 3 columns, input shape = 3D array\n",
    "# activation function, for non-linearity we will use Rectifier activation function\n",
    "classifier.add(Conv2D(filters = 16,kernel_size = (3, 3), activation='relu', input_shape = (128, 128, 3)))\n",
    "classifier.add(BatchNormalization())\n",
    "\n",
    "\n",
    "classifier.add(Conv2D(filters = 16, kernel_size = (3, 3), activation='relu'))\n",
    "classifier.add(BatchNormalization())\n",
    "\n",
    "# Step 2 - Pooling\n",
    "\n",
    "#pooling size 2x2\n",
    "classifier.add(MaxPool2D(strides= (2,2)))\n",
    "classifier.add(Dropout(0.25))\n",
    "\n",
    "\n",
    "classifier.add(Conv2D(filters = 32, kernel_size = (3, 3), activation='relu'))\n",
    "classifier.add(BatchNormalization())\n",
    "\n",
    "classifier.add(Conv2D(filters = 32, kernel_size = (3, 3), activation='relu'))\n",
    "classifier.add(BatchNormalization())\n",
    "\n",
    "classifier.add(MaxPool2D(strides= (2,2)))\n",
    "classifier.add(Dropout(0.25))\n",
    "\n",
    "\n",
    "# Step 3 - Flattening\n",
    "classifier.add(Flatten())\n",
    "\n",
    "\n",
    "\n",
    "#Step 4 - Full Connection\n",
    "\n",
    "classifier.add(Dense(512, activation='relu'))\n",
    "classifier.add(Dropout(0.25))\n",
    "\n",
    "classifier.add(Dense(1024, activation='relu'))\n",
    "classifier.add(Dropout(0.5))\n",
    "\n",
    "classifier.add(Dense(34, activation='softmax'))\n",
    "\n",
    "# Step 5 - Compiling the CNN\n",
    "\n",
    "classifier.summary() # uncomment this to see the architecture of the CNN\n",
    "\n",
    "#optimizer - stochastic gradient descent = adam, loss function = binary cross entropy\n",
    "classifier.compile(optimizer=Adam(lr=1e-4), loss='categorical_crossentropy', metrics = ['accuracy'])"
   ]
  },
  {
   "cell_type": "markdown",
   "metadata": {},
   "source": [
    "## Step 3 - Training the classifier with training and validation data  \n",
    "\n",
    "The compiled classifer will be now trained with the training data.  \n",
    "*num_epochs* determine the number of iterations the classifer will be trained by the dataset.  \n",
    "\n",
    "#### Data Augmentation\n",
    "For better accuracy and performance, the existing dataset will be augmented by various parameters set inside the **ImageDataGenerator**. These factors bring different kinds of variations in a single image data."
   ]
  },
  {
   "cell_type": "code",
   "execution_count": 16,
   "metadata": {
    "scrolled": false
   },
   "outputs": [
    {
     "name": "stdout",
     "output_type": "stream",
     "text": [
      "Found 60635 images belonging to 34 classes.\n",
      "Found 6520 images belonging to 34 classes.\n",
      "Epoch 1/20\n",
      "1894/1894 [==============================] - 1155s 610ms/step - loss: 2.3486 - accuracy: 0.3390 - val_loss: 0.4649 - val_accuracy: 0.6523\n",
      "Epoch 2/20\n",
      "1894/1894 [==============================] - 1058s 559ms/step - loss: 1.5461 - accuracy: 0.5491 - val_loss: 0.0446 - val_accuracy: 0.7419\n",
      "Epoch 3/20\n",
      "1894/1894 [==============================] - 1172s 619ms/step - loss: 1.2891 - accuracy: 0.6239 - val_loss: 0.0661 - val_accuracy: 0.7767\n",
      "Epoch 4/20\n",
      "1894/1894 [==============================] - 1079s 570ms/step - loss: 1.1337 - accuracy: 0.6677 - val_loss: 1.0371e-05 - val_accuracy: 0.7936\n",
      "Epoch 5/20\n",
      "1894/1894 [==============================] - 1060s 559ms/step - loss: 1.0372 - accuracy: 0.6910 - val_loss: 0.3319 - val_accuracy: 0.8241\n",
      "Epoch 6/20\n",
      "1894/1894 [==============================] - 1788s 944ms/step - loss: 0.9587 - accuracy: 0.7144 - val_loss: 0.0016 - val_accuracy: 0.8345\n",
      "Epoch 7/20\n",
      "1894/1894 [==============================] - 1324s 699ms/step - loss: 0.8965 - accuracy: 0.7333 - val_loss: 0.6673 - val_accuracy: 0.8261\n",
      "Epoch 8/20\n",
      "1894/1894 [==============================] - 1311s 692ms/step - loss: 0.8451 - accuracy: 0.7446 - val_loss: 13.3826 - val_accuracy: 0.8429\n",
      "Epoch 9/20\n",
      "1894/1894 [==============================] - 1365s 721ms/step - loss: 0.8088 - accuracy: 0.7565 - val_loss: 0.1778 - val_accuracy: 0.8443\n",
      "Epoch 10/20\n",
      "1894/1894 [==============================] - 1282s 677ms/step - loss: 0.7683 - accuracy: 0.7678 - val_loss: 1.5174e-04 - val_accuracy: 0.8597\n",
      "Epoch 11/20\n",
      "1894/1894 [==============================] - 1130s 597ms/step - loss: 0.7381 - accuracy: 0.7761 - val_loss: 2.3842e-07 - val_accuracy: 0.8613\n",
      "Epoch 12/20\n",
      "1894/1894 [==============================] - 1113s 588ms/step - loss: 0.7080 - accuracy: 0.7844 - val_loss: 0.0845 - val_accuracy: 0.8607\n",
      "Epoch 13/20\n",
      "1894/1894 [==============================] - 1199s 633ms/step - loss: 0.6797 - accuracy: 0.7926 - val_loss: 9.5367e-07 - val_accuracy: 0.8762\n",
      "Epoch 14/20\n",
      "1894/1894 [==============================] - 1151s 607ms/step - loss: 0.6558 - accuracy: 0.8001 - val_loss: 4.7684e-07 - val_accuracy: 0.8748\n",
      "Epoch 15/20\n",
      "1894/1894 [==============================] - 1165s 615ms/step - loss: 0.6443 - accuracy: 0.8053 - val_loss: 0.5807 - val_accuracy: 0.8663\n",
      "Epoch 16/20\n",
      "1894/1894 [==============================] - 1088s 574ms/step - loss: 0.6188 - accuracy: 0.8103 - val_loss: 0.7051 - val_accuracy: 0.8745\n",
      "Epoch 17/20\n",
      "1894/1894 [==============================] - 1059s 559ms/step - loss: 0.5922 - accuracy: 0.8172 - val_loss: 1.3525 - val_accuracy: 0.8807\n",
      "Epoch 18/20\n",
      "1894/1894 [==============================] - 1124s 593ms/step - loss: 0.5809 - accuracy: 0.8202 - val_loss: 0.2431 - val_accuracy: 0.8782\n",
      "Epoch 19/20\n",
      "1894/1894 [==============================] - 1204s 636ms/step - loss: 0.5633 - accuracy: 0.8258 - val_loss: 0.0014 - val_accuracy: 0.8808\n",
      "Epoch 20/20\n",
      "1894/1894 [==============================] - 1148s 606ms/step - loss: 0.5513 - accuracy: 0.8312 - val_loss: 0.0053 - val_accuracy: 0.8957\n"
     ]
    }
   ],
   "source": [
    "num_epochs = 20 # for better accuracy\n",
    "\n",
    "training_path = '/home/ashhasib/workstation/dataset/bangla_dataset/training/compound'\n",
    "valid_path = '/home/ashhasib/workstation/dataset/bangla_dataset/valid/compound'\n",
    "train_datagen = ImageDataGenerator(\n",
    "        rescale=1./255,\n",
    "        shear_range=0.2,\n",
    "        zoom_range=0.2,\n",
    "        horizontal_flip=True)\n",
    "\n",
    "train_generator = train_datagen.flow_from_directory(\n",
    "    directory=training_path,\n",
    "    target_size=(128, 128),\n",
    "    batch_size=32,\n",
    "    class_mode=\"categorical\",\n",
    "    shuffle=True,\n",
    "    seed=42\n",
    ")\n",
    "\n",
    "#print(train_generator)\n",
    "\n",
    "valid_datagen = ImageDataGenerator(\n",
    "        rescale=1./255,\n",
    "        shear_range=0.2,\n",
    "        zoom_range=0.2,\n",
    "        horizontal_flip=True)\n",
    "\n",
    "valid_generator = valid_datagen.flow_from_directory(\n",
    "    directory = valid_path,\n",
    "    target_size=(128, 128),\n",
    "    batch_size=1,\n",
    "    class_mode=\"categorical\",\n",
    "    shuffle=True,\n",
    "    seed=42\n",
    ")\n",
    "\n",
    "\n",
    "\n",
    "STEP_SIZE_TRAIN=train_generator.n//train_generator.batch_size\n",
    "STEP_SIZE_VALID=valid_generator.n//valid_generator.batch_size\n",
    "\n",
    "history = classifier.fit_generator(generator=train_generator,\n",
    "                    steps_per_epoch = STEP_SIZE_TRAIN,\n",
    "                    validation_data = valid_generator,\n",
    "                    validation_steps = STEP_SIZE_VALID,\n",
    "                    epochs=num_epochs\n",
    ")\n"
   ]
  },
  {
   "cell_type": "markdown",
   "metadata": {},
   "source": [
    "## Step 4 - Visualizing different types of accuracy & loss\n",
    "The history of training is visualized using matplotlib library. The following facts are showed in the graphs generated by the codeblock below\n",
    "\n",
    "- Training Accuracy\n",
    "- Validation Accuracy\n",
    "- Training Loss\n",
    "- Validation Loss\n",
    "\n",
    "The graphs will also determine the amount of overfitting in the dataset"
   ]
  },
  {
   "cell_type": "code",
   "execution_count": 18,
   "metadata": {},
   "outputs": [
    {
     "data": {
      "image/png": "[encoded data removed]",
      "text/plain": [
       "<Figure size 432x288 with 1 Axes>"
      ]
     },
     "metadata": {
      "needs_background": "light"
     },
     "output_type": "display_data"
    },
    {
     "data": {
      "image/png": "[encoded data removed]",
      "text/plain": [
       "<Figure size 432x288 with 1 Axes>"
      ]
     },
     "metadata": {
      "needs_background": "light"
     },
     "output_type": "display_data"
    }
   ],
   "source": [
    "\n",
    "\n",
    "# Plot training & validation accuracy values\n",
    "plt.plot(history.history['accuracy'])\n",
    "plt.plot(history.history['val_accuracy'])\n",
    "plt.title('Model accuracy')\n",
    "plt.ylabel('Accuracy')\n",
    "plt.xlabel('Epoch')\n",
    "plt.legend(['Train', 'Test'], loc='upper left')\n",
    "plt.show()\n",
    "\n",
    "# Plot training & validation loss values\n",
    "plt.plot(history.history['loss'])\n",
    "plt.plot(history.history['val_loss'])\n",
    "plt.title('Model loss')\n",
    "plt.ylabel('Loss')\n",
    "plt.xlabel('Epoch')\n",
    "plt.legend(['Train', 'Test'], loc='upper left')\n",
    "plt.show()"
   ]
  },
  {
   "cell_type": "markdown",
   "metadata": {},
   "source": [
    "## Step 5 - Saving and reloading the classifer\n",
    "The classifer will be saved so it does not have to be trained everytime"
   ]
  },
  {
   "cell_type": "code",
   "execution_count": 19,
   "metadata": {},
   "outputs": [],
   "source": [
    "save_path = '/home/ashhasib/workstation/thesis/'\n",
    "classifier.save(save_path+'cnn_saved_model.h5')"
   ]
  },
  {
   "cell_type": "markdown",
   "metadata": {},
   "source": [
    "## Just have to load the model down from here, no need to train it first"
   ]
  },
  {
   "cell_type": "code",
   "execution_count": 20,
   "metadata": {},
   "outputs": [
    {
     "name": "stdout",
     "output_type": "stream",
     "text": [
      "Model: \"sequential_5\"\n",
      "_________________________________________________________________\n",
      "Layer (type)                 Output Shape              Param #   \n",
      "=================================================================\n",
      "conv2d_17 (Conv2D)           (None, 126, 126, 16)      448       \n",
      "_________________________________________________________________\n",
      "batch_normalization_17 (Batc (None, 126, 126, 16)      64        \n",
      "_________________________________________________________________\n",
      "conv2d_18 (Conv2D)           (None, 124, 124, 16)      2320      \n",
      "_________________________________________________________________\n",
      "batch_normalization_18 (Batc (None, 124, 124, 16)      64        \n",
      "_________________________________________________________________\n",
      "max_pooling2d_9 (MaxPooling2 (None, 62, 62, 16)        0         \n",
      "_________________________________________________________________\n",
      "dropout_17 (Dropout)         (None, 62, 62, 16)        0         \n",
      "_________________________________________________________________\n",
      "conv2d_19 (Conv2D)           (None, 60, 60, 32)        4640      \n",
      "_________________________________________________________________\n",
      "batch_normalization_19 (Batc (None, 60, 60, 32)        128       \n",
      "_________________________________________________________________\n",
      "conv2d_20 (Conv2D)           (None, 58, 58, 32)        9248      \n",
      "_________________________________________________________________\n",
      "batch_normalization_20 (Batc (None, 58, 58, 32)        128       \n",
      "_________________________________________________________________\n",
      "max_pooling2d_10 (MaxPooling (None, 29, 29, 32)        0         \n",
      "_________________________________________________________________\n",
      "dropout_18 (Dropout)         (None, 29, 29, 32)        0         \n",
      "_________________________________________________________________\n",
      "flatten_5 (Flatten)          (None, 26912)             0         \n",
      "_________________________________________________________________\n",
      "dense_13 (Dense)             (None, 512)               13779456  \n",
      "_________________________________________________________________\n",
      "dropout_19 (Dropout)         (None, 512)               0         \n",
      "_________________________________________________________________\n",
      "dense_14 (Dense)             (None, 1024)              525312    \n",
      "_________________________________________________________________\n",
      "dropout_20 (Dropout)         (None, 1024)              0         \n",
      "_________________________________________________________________\n",
      "dense_15 (Dense)             (None, 34)                34850     \n",
      "=================================================================\n",
      "Total params: 14,356,658\n",
      "Trainable params: 14,356,466\n",
      "Non-trainable params: 192\n",
      "_________________________________________________________________\n"
     ]
    }
   ],
   "source": [
    "from keras.models import load_model\n",
    "load_path = '/home/ashhasib/workstation/thesis/'\n",
    "model = load_model(load_path+'cnn_saved_model.h5')\n",
    "\n",
    "model.summary()"
   ]
  },
  {
   "cell_type": "markdown",
   "metadata": {},
   "source": [
    "## Testing the classifier with some test images\n",
    "Some test images are gathered in a folder to be passed as input to our classifer. The output of the codeblock below will be the answers to our input query images in a sequential manner."
   ]
  },
  {
   "cell_type": "code",
   "execution_count": 22,
   "metadata": {},
   "outputs": [
    {
     "name": "stdout",
     "output_type": "stream",
     "text": [
      "Found 8 images belonging to 1 classes.\n",
      "8/8 [==============================] - 0s 11ms/step\n",
      "The sequentially given images in the test dir. are . . . \n",
      "ণ্ঠ\n",
      "ক্ষ\n",
      "ষ্ঠ\n",
      "ল্প\n",
      "স্ক\n",
      "৯\n",
      "ক্ত\n",
      "স্ন\n"
     ]
    }
   ],
   "source": [
    "test_path = '/home/ashhasib/workstation/dataset/bangla_dataset/test'\n",
    "test_datagen = ImageDataGenerator(rescale=1./255)\n",
    "\n",
    "test_generator = test_datagen.flow_from_directory(\n",
    "    directory=test_path,\n",
    "    target_size=(128, 128),\n",
    "    batch_size=1,\n",
    "    class_mode=None,\n",
    "    shuffle=False,\n",
    "    seed=42\n",
    ")\n",
    "\n",
    "#print(test_generator)\n",
    "\n",
    "STEP_SIZE_TEST=test_generator.n//test_generator.batch_size\n",
    "test_generator.reset()\n",
    "\n",
    "pred = model.predict_generator(test_generator, steps = STEP_SIZE_TEST, verbose=1)\n",
    "\n",
    "predicted_class_indices=np.argmax(pred,axis=1)\n",
    "\n",
    "#print(predicted_class_indices)\n",
    "\n",
    "\n",
    "labels = (train_generator.class_indices)\n",
    "labels = dict((v,k) for k, v in labels.items())\n",
    "predictions = [labels[k] for k in predicted_class_indices]\n",
    "\n",
    "print('The sequentially given images in the test dir. are . . . ')\n",
    "\n",
    "for p in predictions:\n",
    "  print(p)"
   ]
  },
  {
   "cell_type": "markdown",
   "metadata": {},
   "source": [
    "## Step 7 - Printing the Accuracy of the classifer\n",
    "Using the validation dataset, the accuracy of the classifer that is already trained can be determined. The following code will calculate the accuracy of the CNN model that recognizes Bengali Compound Characters."
   ]
  },
  {
   "cell_type": "code",
   "execution_count": 27,
   "metadata": {},
   "outputs": [
    {
     "name": "stdout",
     "output_type": "stream",
     "text": [
      "Found 6512 images belonging to 34 classes.\n",
      "Accuracy : 89.40417766571045\n"
     ]
    }
   ],
   "source": [
    "valid_path = '/home/ashhasib/workstation/dataset/bangla_dataset/valid/compound'\n",
    "\n",
    "valid_datagen = ImageDataGenerator(\n",
    "        rescale=1./255,\n",
    "        shear_range=0.2,\n",
    "        zoom_range=0.2,\n",
    "        horizontal_flip=True)\n",
    "\n",
    "valid_generator = valid_datagen.flow_from_directory(\n",
    "    directory = valid_path,\n",
    "    target_size=(128, 128),\n",
    "    batch_size=1,\n",
    "    class_mode=\"categorical\",\n",
    "    shuffle=True,\n",
    "    seed=42\n",
    ")\n",
    "\n",
    "STEP_SIZE_VALID=valid_generator.n//valid_generator.batch_size\n",
    "\n",
    "res = model.evaluate_generator(generator=valid_generator,\n",
    "steps=STEP_SIZE_VALID)\n",
    "\n",
    "print('Accuracy : ' + str(float(res[1])*100))\n",
    "#print(valid_generator)"
   ]
  }
 ],
 "metadata": {
  "kernelspec": {
   "display_name": "Python 3",
   "language": "python",
   "name": "python3"
  },
  "language_info": {
   "codemirror_mode": {
    "name": "ipython",
    "version": 3
   },
   "file_extension": ".py",
   "mimetype": "text/x-python",
   "name": "python",
   "nbconvert_exporter": "python",
   "pygments_lexer": "ipython3",
   "version": "3.7.4"
  }
 },
 "nbformat": 4,
 "nbformat_minor": 2
}
